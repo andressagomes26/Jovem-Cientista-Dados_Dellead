{
  "nbformat": 4,
  "nbformat_minor": 0,
  "metadata": {
    "colab": {
      "name": "oficina11.ipynb",
      "provenance": []
    },
    "kernelspec": {
      "name": "python3",
      "display_name": "Python 3"
    },
    "language_info": {
      "name": "python"
    }
  },
  "cells": [
    {
      "cell_type": "markdown",
      "metadata": {
        "id": "DQJNAxJQ0WKd"
      },
      "source": [
        "### OFICINA 11 - Dividindo e reutilizando o código\n",
        "\n",
        "> Aluna: Andressa Gomes Moreira"
      ]
    },
    {
      "cell_type": "code",
      "metadata": {
        "colab": {
          "base_uri": "https://localhost:8080/"
        },
        "id": "VLZ4oyCz0QP7",
        "outputId": "0642cb8a-a5c0-4fd4-f42c-c38868a02ef7"
      },
      "source": [
        "def formatar_data(ano, mes, dia):\n",
        "  MM = {\n",
        "        1: \"jan\",\n",
        "        2: \"fev\",\n",
        "        3: \"mar\",\n",
        "        4: \"abr\",\n",
        "        5: \"mai\",\n",
        "        6: \"jun\",\n",
        "        7: \"jul\",\n",
        "        8: \"ago\",\n",
        "        9: \"set\",\n",
        "        10: \"out\",\n",
        "        11: \"nov\",\n",
        "        12: \"dez\",\n",
        "    }\n",
        "  \n",
        "  if dia < 10:\n",
        "    dia = f\"0{dia}\"\n",
        "  \n",
        "  return f\"{dia}/{MM[mes]}/{ano}\"\n",
        "\n",
        "def formatar_hora(hora, minuto):\n",
        "  if hora < 10:\n",
        "    hora = f\"0{hora}\"\n",
        "  elif minuto < 10:\n",
        "    minuto = f\"0{minuto}\"\n",
        "\n",
        "  return f\"{hora}:{minuto}\"\n",
        "  \n",
        "print(formatar_data(2020, 1, 23))\n",
        "print(formatar_hora(16, 30))"
      ],
      "execution_count": 46,
      "outputs": [
        {
          "output_type": "stream",
          "name": "stdout",
          "text": [
            "23/jan/2020\n",
            "16:30\n"
          ]
        }
      ]
    },
    {
      "cell_type": "code",
      "metadata": {
        "id": "j3QLVUM73Gzj"
      },
      "source": [
        "agenda = [\n",
        "\n",
        "  ((2020, 1, 13), (11, 50), 'Renovar identidade'),\n",
        "\n",
        "  ((2020, 1, 15), (16, 30), 'Fazer compras'),\n",
        "\n",
        "  ((2020, 1, 25), (8, 45), 'Autenticar documentos'),\n",
        "\n",
        "  ((2020, 2, 29), (14, 15), 'Prestar concurso'),\n",
        "\n",
        "  ((2020, 3, 15), (17, 50), 'Buscar bolo pro aniversário da vovó'),\n",
        "\n",
        "  ((2020, 3, 17), (13, 20), 'Consulta de revisão com dentista'),\n",
        "\n",
        "]"
      ],
      "execution_count": 47,
      "outputs": []
    },
    {
      "cell_type": "code",
      "metadata": {
        "colab": {
          "base_uri": "https://localhost:8080/"
        },
        "id": "icnXlCJr4SP8",
        "outputId": "97a34dba-12db-459d-8935-87cdcbf1635f"
      },
      "source": [
        "def imprimir_eventos(eventos, de_data=(1, 1, 1), ate_data=(9999, 12, 31)):\n",
        "  for evento in eventos:\n",
        "    if evento[0] >= de_data and evento[0] <= ate_data :\n",
        "      data = evento[0]\n",
        "      hora = evento[1]\n",
        "      descricao = evento[2]\n",
        "\n",
        "      print(f\"{formatar_data(data[0], data[1], data[2])} - {formatar_hora(hora[0], hora[1])}: {descricao}\")\n",
        "\n",
        "\n",
        "imprimir_eventos(agenda, ate_data=(2020, 3, 15))"
      ],
      "execution_count": 48,
      "outputs": [
        {
          "output_type": "stream",
          "name": "stdout",
          "text": [
            "13/jan/2020 - 11:50: Renovar identidade\n",
            "15/jan/2020 - 16:30: Fazer compras\n",
            "25/jan/2020 - 08:45: Autenticar documentos\n",
            "29/fev/2020 - 14:15: Prestar concurso\n",
            "15/mar/2020 - 17:50: Buscar bolo pro aniversário da vovó\n"
          ]
        }
      ]
    }
  ]
}