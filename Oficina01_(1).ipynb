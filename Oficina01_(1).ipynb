{
  "nbformat": 4,
  "nbformat_minor": 0,
  "metadata": {
    "colab": {
      "name": "Oficina01 (1).ipynb",
      "provenance": [],
      "collapsed_sections": [],
      "include_colab_link": true
    },
    "kernelspec": {
      "name": "python3",
      "display_name": "Python 3"
    },
    "language_info": {
      "name": "python"
    }
  },
  "cells": [
    {
      "cell_type": "markdown",
      "metadata": {
        "id": "view-in-github",
        "colab_type": "text"
      },
      "source": [
        "<a href=\"https://colab.research.google.com/github/andressagomes26/Jovem-Cientista-Dados_Dellead/blob/main/Oficina01_(1).ipynb\" target=\"_parent\"><img src=\"https://colab.research.google.com/assets/colab-badge.svg\" alt=\"Open In Colab\"/></a>"
      ]
    },
    {
      "cell_type": "code",
      "metadata": {
        "colab": {
          "base_uri": "https://localhost:8080/"
        },
        "id": "Yu8l_NnxAEld",
        "outputId": "88f22ee6-dc00-4c87-b2fc-78afecd38914"
      },
      "source": [
        "\"\"\" \n",
        "  OFICINA 01 - Curso Introdução à Lógica de Programação em Python\n",
        "  Aula 1.2 - Atribuindo valores a variáveis corretamente\n",
        "  Aluna: Andressa Gomes Moreira\n",
        "\"\"\"\n",
        "nome = input('Digite seu nome: ')\n",
        "peso = float(input('Digite sua peso: '))\n",
        "altura = float(input('Digite sua altura: '))\n",
        "\n",
        "imc_float = (peso/altura ** 2)\n",
        "imc_str = str(imc_float)\n",
        "\n",
        "print(f'O cálculo do IMC de {nome} é igual a {imc_str}')"
      ],
      "execution_count": null,
      "outputs": [
        {
          "output_type": "stream",
          "name": "stdout",
          "text": [
            "Digite seu nome: Andressa\n",
            "Digite sua peso: 60\n",
            "Digite sua altura: 1.60\n",
            "O cálculo do IMC de Andressa é igual a 23.437499999999996\n"
          ]
        }
      ]
    }
  ]
}